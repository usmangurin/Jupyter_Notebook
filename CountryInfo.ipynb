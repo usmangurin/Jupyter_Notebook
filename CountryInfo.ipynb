pip install countryinfo

from countryinfo import CountryInfo
count = input("Enter your country: ")
country = CountryInfo(count)
print("Capital is: ", country.capital())
print("Currency is: ", country.currencies())
print("Language is: ", country.languages())
print("Borders are: ", country.borders())
print("Other names: ", country.alt_spellings())
