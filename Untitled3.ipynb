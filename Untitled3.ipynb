{
  "nbformat": 4,
  "nbformat_minor": 0,
  "metadata": {
    "colab": {
      "provenance": [],
      "collapsed_sections": [],
      "authorship_tag": "ABX9TyPh4RJnLb4N0aFAnqqHu+FD",
      "include_colab_link": true
    },
    "kernelspec": {
      "name": "python3",
      "display_name": "Python 3"
    },
    "language_info": {
      "name": "python"
    }
  },
  "cells": [
    {
      "cell_type": "markdown",
      "metadata": {
        "id": "view-in-github",
        "colab_type": "text"
      },
      "source": [
        "<a href=\"https://colab.research.google.com/github/usmangurin/usmangurin/blob/main/Untitled3.ipynb\" target=\"_parent\"><img src=\"https://colab.research.google.com/assets/colab-badge.svg\" alt=\"Open In Colab\"/></a>"
      ]
    },
    {
      "cell_type": "code",
      "execution_count": 1,
      "metadata": {
        "id": "jVHBcOsbB_O1",
        "colab": {
          "base_uri": "https://localhost:8080/"
        },
        "outputId": "51b7a97c-5764-450f-e24d-80e00b7e27c4"
      },
      "outputs": [
        {
          "output_type": "stream",
          "name": "stdout",
          "text": [
            "Looking in indexes: https://pypi.org/simple, https://us-python.pkg.dev/colab-wheels/public/simple/\n",
            "Collecting countryinfo\n",
            "  Downloading countryinfo-0.1.2-py3-none-any.whl (602 kB)\n",
            "\u001b[K     |████████████████████████████████| 602 kB 4.3 MB/s \n",
            "\u001b[?25hInstalling collected packages: countryinfo\n",
            "Successfully installed countryinfo-0.1.2\n"
          ]
        }
      ],
      "source": [
        "pip install countryinfo"
      ]
    },
    {
      "cell_type": "markdown",
      "source": [
        "**Country Info in Python**"
      ],
      "metadata": {
        "id": "Kpo7_Q0JLAHK"
      }
    },
    {
      "cell_type": "code",
      "source": [
        "from countryinfo import CountryInfo\n",
        "count = input(\"Enter your country: \")\n",
        "country = CountryInfo(count)\n",
        "print(\"Capital is : \", country.capital())\n",
        "print(\"Currency is : \", country.currencies())\n",
        "print(\"Languages is :\", country.languages())\n",
        "print(\"Borders are : \", country.borders())\n",
        "print(\"Other names : \", country.alt_spellings()) "
      ],
      "metadata": {
        "colab": {
          "base_uri": "https://localhost:8080/"
        },
        "id": "vujGIeVELKUl",
        "outputId": "595b9e26-9712-452a-cde9-17e5cb986ed6"
      },
      "execution_count": 2,
      "outputs": [
        {
          "output_type": "stream",
          "name": "stdout",
          "text": [
            "Enter your country: Nigeria\n",
            "Capital is :  Abuja\n",
            "Currency is :  ['NGN']\n",
            "Languages is : ['en']\n",
            "Borders are :  ['BEN', 'CMR', 'TCD', 'NER']\n",
            "Other names :  ['NG', 'Nijeriya', 'Naíjíríà', 'Federal Republic of Nigeria']\n"
          ]
        }
      ]
    }
  ]
}